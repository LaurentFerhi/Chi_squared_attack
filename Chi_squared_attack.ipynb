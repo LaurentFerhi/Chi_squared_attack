{
 "cells": [
  {
   "cell_type": "markdown",
   "metadata": {},
   "source": [
    "# Chi squared attack on Caesar encryption"
   ]
  },
  {
   "cell_type": "code",
   "execution_count": 255,
   "metadata": {},
   "outputs": [],
   "source": [
    "import numpy as np\n",
    "import pandas as pd\n",
    "import time"
   ]
  },
  {
   "cell_type": "code",
   "execution_count": 256,
   "metadata": {},
   "outputs": [],
   "source": [
    "def caesar_encryption(alphabet, shift, text, direction):\n",
    "    # remove spaces from text and uppercase all text\n",
    "    text = text.replace(\" \", \"\").upper()\n",
    "    \n",
    "    # loop over all letters from the text\n",
    "    returned_text = []\n",
    "    for letter in list(text):\n",
    "        for counter, value in enumerate(list(alphabet)):\n",
    "            \n",
    "            # encryption : E = (x + shift) mod len(aplhabet)\n",
    "            if letter==value and direction=='encrypt':\n",
    "                returned_text.append(alphabet[(counter + shift)%len(list(alphabet))])\n",
    "                break\n",
    "                \n",
    "            # decryption : E = (x - shift) mod len(aplhabet)\n",
    "            elif letter==value and direction=='decrypt':\n",
    "                returned_text.append(alphabet[(counter - shift)%len(list(alphabet))])\n",
    "                break\n",
    "                \n",
    "    return \"\".join(returned_text)"
   ]
  },
  {
   "cell_type": "code",
   "execution_count": 257,
   "metadata": {},
   "outputs": [
    {
     "name": "stdout",
     "output_type": "stream",
     "text": [
      "ZNOYOYGZKYZZUVXUBKZNKKLLOIOKTIEULZNKINOYWAGXKJGZZGIQ\n",
      "THISISATESTTOPROVETHEEFFICIENCYOFTHECHISQUAREDATTACK\n"
     ]
    }
   ],
   "source": [
    "alpha = 'ABCDEFGHIJKLMNOPQRSTUVWXYZ'\n",
    "text = 'THIS IS A TEST TO PROVE THE EFFICIENCY OF THE CHI SQUARED ATTACK'\n",
    "\n",
    "encrypted_txt = caesar_encryption(alpha, 6, text, 'encrypt')\n",
    "print(encrypted_txt)\n",
    "decrypted_txt = caesar_encryption(alpha, 6, encrypted_txt, 'decrypt')\n",
    "print(decrypted_txt)"
   ]
  },
  {
   "cell_type": "code",
   "execution_count": 258,
   "metadata": {},
   "outputs": [],
   "source": [
    "def chi_squared_attack(alphabet, encrypted_txt, max_n):\n",
    "    # load n_grams and initialize variables\n",
    "    n_grams = pd.read_csv('n_grams_eng.csv')\n",
    "    n_grams['n'] = n_grams['n_gram'].apply(lambda x: len(str(x)))\n",
    "    \n",
    "    final_score = 0\n",
    "    decrypted_txt = ''\n",
    "    hist = pd.DataFrame(columns=['shift', 'chi_2_score','decrypt'])\n",
    "    \n",
    "    # generate the n_gram list to loop over\n",
    "    search_gram = np.array(n_grams['n_gram'].loc[n_grams['n'] <= max_n])\n",
    "    \n",
    "    # loop over each n_gram and test decryption\n",
    "    for i in range(len(alphabet)):\n",
    "        \n",
    "        # start chrono\n",
    "        start = time.time()\n",
    "        \n",
    "        # test the i_th shift for decryption\n",
    "        test_decrypt = caesar_encryption(alpha, i, encrypted_txt, 'decrypt')\n",
    "        \n",
    "        # calculate the chi squared score i for each letter\n",
    "        score_chi2_i = []\n",
    "        for n_gram in search_gram:\n",
    "            ci = test_decrypt.count(n_gram) # Actual count of the letter\n",
    "            ei = float(n_grams['freq'].loc[n_grams['n_gram']==n_gram])*len(encrypted_txt)\n",
    "            score_chi2_i.append((ci - ei)**2/ei )\n",
    "        \n",
    "        # end chrono\n",
    "        end = time.time()\n",
    "        \n",
    "        # sum all chi squared score i to calculate total chi squared score \n",
    "        score_chi2 = sum(score_chi2_i)\n",
    "        \n",
    "        # save history\n",
    "        hist.loc[i] = [i,score_chi2,test_decrypt]\n",
    "        \n",
    "        # keep only best score (inverse score to initialize to 0 and keep highest)\n",
    "        if 1/score_chi2 > final_score:\n",
    "            final_score = 1/score_chi2\n",
    "            decrypted_txt = test_decrypt\n",
    "    \n",
    "        # display progress\n",
    "        print(\n",
    "            str(i)+'/'+str(len(search_gram))+':',\n",
    "            str(round(end - start,2))+'s', # display elapsed time\n",
    "            'score:',round(score_chi2,3),\n",
    "            test_decrypt[:15]+'...') # display only 15 characters\n",
    "    \n",
    "    # display the best solutions\n",
    "    print(hist.sort_values('chi_2_score').head())\n",
    "     \n",
    "    return decrypted_txt, final_score"
   ]
  },
  {
   "cell_type": "code",
   "execution_count": 259,
   "metadata": {},
   "outputs": [
    {
     "name": "stdout",
     "output_type": "stream",
     "text": [
      "0/26: 0.61s score: 1276.314 ZNOYOYGZKYZZUVX...\n",
      "1/26: 0.59s score: 697.239 YMNXNXFYJXYYTUW...\n",
      "2/26: 0.58s score: 773.432 XLMWMWEXIWXXSTV...\n",
      "3/26: 0.62s score: 175.473 WKLVLVDWHVWWRSU...\n",
      "4/26: 0.58s score: 517.616 VJKUKUCVGUVVQRT...\n",
      "5/26: 0.61s score: 347.762 UIJTJTBUFTUUPQS...\n",
      "6/26: 0.59s score: 37.892 THISISATESTTOPR...\n",
      "7/26: 0.62s score: 409.562 SGHRHRZSDRSSNOQ...\n",
      "8/26: 0.56s score: 370.559 RFGQGQYRCQRRMNP...\n",
      "9/26: 0.59s score: 1677.187 QEFPFPXQBPQQLMO...\n",
      "10/26: 0.62s score: 149.881 PDEOEOWPAOPPKLN...\n",
      "11/26: 0.58s score: 1117.344 OCDNDNVOZNOOJKM...\n",
      "12/26: 0.59s score: 274.238 NBCMCMUNYMNNIJL...\n",
      "13/26: 0.57s score: 597.729 MABLBLTMXLMMHIK...\n",
      "14/26: 0.57s score: 516.152 LZAKAKSLWKLLGHJ...\n",
      "15/26: 0.57s score: 801.72 KYZJZJRKVJKKFGI...\n",
      "16/26: 0.58s score: 1061.284 JXYIYIQJUIJJEFH...\n",
      "17/26: 0.57s score: 314.169 IWXHXHPITHIIDEG...\n",
      "18/26: 0.57s score: 380.753 HVWGWGOHSGHHCDF...\n",
      "19/26: 0.57s score: 156.938 GUVFVFNGRFGGBCE...\n",
      "20/26: 0.57s score: 981.33 FTUEUEMFQEFFABD...\n",
      "21/26: 0.58s score: 369.306 ESTDTDLEPDEEZAC...\n",
      "22/26: 0.61s score: 117.027 DRSCSCKDOCDDYZB...\n",
      "23/26: 0.6s score: 584.497 CQRBRBJCNBCCXYA...\n",
      "24/26: 0.58s score: 679.973 BPQAQAIBMABBWXZ...\n",
      "25/26: 0.62s score: 473.588 AOPZPZHALZAAVWY...\n",
      "   shift  chi_2_score                                            decrypt\n",
      "6      6    37.892082  THISISATESTTOPROVETHEEFFICIENCYOFTHECHISQUARED...\n",
      "22    22   117.026947  DRSCSCKDOCDDYZBYFODROOPPSMSOXMIYPDROMRSCAEKBON...\n",
      "10    10   149.880824  PDEOEOWPAOPPKLNKRAPDAABBEYEAJYUKBPDAYDEOMQWNAZ...\n",
      "19    19   156.938461  GUVFVFNGRFGGBCEBIRGURRSSVPVRAPLBSGURPUVFDHNERQ...\n",
      "3      3   175.473278  WKLVLVDWHVWWRSURYHWKHHIILFLHQFBRIWKHFKLVTXDUHG...\n"
     ]
    },
    {
     "data": {
      "text/plain": [
       "('THISISATESTTOPROVETHEEFFICIENCYOFTHECHISQUAREDATTACK', 0.026390737749238165)"
      ]
     },
     "execution_count": 259,
     "metadata": {},
     "output_type": "execute_result"
    }
   ],
   "source": [
    "chi_squared_attack(alpha, encrypted_txt,1)"
   ]
  },
  {
   "cell_type": "code",
   "execution_count": null,
   "metadata": {},
   "outputs": [],
   "source": []
  }
 ],
 "metadata": {
  "kernelspec": {
   "display_name": "Python 3",
   "language": "python",
   "name": "python3"
  },
  "language_info": {
   "codemirror_mode": {
    "name": "ipython",
    "version": 3
   },
   "file_extension": ".py",
   "mimetype": "text/x-python",
   "name": "python",
   "nbconvert_exporter": "python",
   "pygments_lexer": "ipython3",
   "version": "3.7.1"
  }
 },
 "nbformat": 4,
 "nbformat_minor": 2
}
