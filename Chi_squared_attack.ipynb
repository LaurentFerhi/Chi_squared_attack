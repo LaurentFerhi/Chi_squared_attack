{
 "cells": [
  {
   "cell_type": "markdown",
   "metadata": {},
   "source": [
    "# Chi squared attack on Caesar encryption"
   ]
  },
  {
   "cell_type": "code",
   "execution_count": 72,
   "metadata": {},
   "outputs": [],
   "source": [
    "import numpy as np\n",
    "import pandas as pd\n",
    "import time"
   ]
  },
  {
   "cell_type": "code",
   "execution_count": 73,
   "metadata": {},
   "outputs": [],
   "source": [
    "def caesar_encryption(alphabet, shift, text, direction):\n",
    "    # memorize places of spaces\n",
    "    spaces = [i for i in range(0, len(text)-1) if text[i] == ' ']\n",
    "    \n",
    "    # remove spaces from text and uppercase all text\n",
    "    text = text.replace(\" \", \"\").upper()\n",
    "    \n",
    "    # loop over all letters from the text\n",
    "    returned_text = []\n",
    "    for letter in list(text):\n",
    "        for counter, value in enumerate(list(alphabet)):\n",
    "            \n",
    "            # encryption : E = (x + shift) mod len(aplhabet)\n",
    "            if letter==value and direction=='encrypt':\n",
    "                returned_text.append(alphabet[(counter + shift)%len(list(alphabet))])\n",
    "                break\n",
    "                \n",
    "            # decryption : E = (x - shift) mod len(aplhabet)\n",
    "            elif letter==value and direction=='decrypt':\n",
    "                returned_text.append(alphabet[(counter - shift)%len(list(alphabet))])\n",
    "                break\n",
    "                \n",
    "    # Re-insert spaces\n",
    "    for idx in spaces:\n",
    "        returned_text.insert(idx,' ')\n",
    "                \n",
    "    return \"\".join(returned_text)"
   ]
  },
  {
   "cell_type": "code",
   "execution_count": 74,
   "metadata": {},
   "outputs": [
    {
     "name": "stdout",
     "output_type": "stream",
     "text": [
      "IK SKYYGMK KYZ IXEVZK GBKI RG SKZNUJK IKYGX WAO IUTYOYZK KT AT YAHYZOZAZOUT GRVNGHKZOWAK\n",
      "CE MESSAGE EST CRYPTE AVEC LA METHODE CESAR QUI CONSISTE EN UN SUBSTITUTION ALPHABETIQUE\n"
     ]
    }
   ],
   "source": [
    "alpha = 'ABCDEFGHIJKLMNOPQRSTUVWXYZ'\n",
    "text = 'CE MESSAGE EST CRYPTE AVEC LA METHODE CESAR QUI CONSISTE EN UNE SUBSTITUTION ALPHABETIQUE'\n",
    "\n",
    "encrypted_txt = caesar_encryption(alpha, 6, text, 'encrypt')\n",
    "print(encrypted_txt)\n",
    "decrypted_txt = caesar_encryption(alpha, 6, encrypted_txt, 'decrypt')\n",
    "print(decrypted_txt)"
   ]
  },
  {
   "cell_type": "code",
   "execution_count": 75,
   "metadata": {},
   "outputs": [],
   "source": [
    "def calculate_chi_score_fr(text, max_n=2):\n",
    "    # load n_grams and initialize variables\n",
    "    n_grams = pd.read_csv('n_grams_fr.csv').drop('Unnamed: 0', axis=1).dropna()\n",
    "\n",
    "    # generate the n_gram list to loop over\n",
    "    search_gram = np.array(n_grams['n_gram'].loc[n_grams['n'] <= max_n])\n",
    "    \n",
    "    # calculate the chi squared score i for each letter\n",
    "    score_chi2_i = []\n",
    "    for n_gram in search_gram:\n",
    "        ci = text.count(n_gram) # Actual count of the letter\n",
    "        ei = float(n_grams['freq'].loc[n_grams['n_gram']==n_gram])*len(encrypted_txt)\n",
    "        score_chi2_i.append((ci - ei)**2/ei )\n",
    "     \n",
    "    # sum all chi squared score i to calculate total chi squared score \n",
    "    return sum(score_chi2_i)"
   ]
  },
  {
   "cell_type": "code",
   "execution_count": 76,
   "metadata": {},
   "outputs": [],
   "source": [
    "def chi_squared_attack(alphabet, encrypted_txt):\n",
    "    \n",
    "    print(\"Decryption of:\",encrypted_txt[:15]+'...\\n')\n",
    "          \n",
    "    final_score = 0\n",
    "    decrypted_txt = ''\n",
    "    hist = pd.DataFrame(columns=['shift', 'chi_2_score','decrypt'])\n",
    "    \n",
    "    # loop over each n_gram and test decryption\n",
    "    for i in range(1,len(alphabet)):\n",
    "        \n",
    "        # start chrono\n",
    "        start = time.time()\n",
    "        \n",
    "        # test the i_th shift for decryption\n",
    "        test_decrypt = caesar_encryption(alpha, i, encrypted_txt, 'decrypt')\n",
    "        \n",
    "        # calculate the chi squared score i for each letter and sum\n",
    "        score_chi2 = calculate_chi_score_fr(test_decrypt)\n",
    "        \n",
    "        # end chrono\n",
    "        end = time.time()\n",
    "        \n",
    "        # save history\n",
    "        hist.loc[i] = [i,score_chi2,test_decrypt]\n",
    "        \n",
    "        # keep only best score (inverse score to initialize to 0 and keep highest)\n",
    "        if 1/score_chi2 > final_score:\n",
    "            final_score = 1/score_chi2\n",
    "            decrypted_txt = test_decrypt\n",
    "    \n",
    "        # display progress\n",
    "        print(\n",
    "            str(i)+'/26:',\n",
    "            str(round(end - start,2))+'s', # display elapsed time\n",
    "            'score:',round(score_chi2,3),\n",
    "            test_decrypt[:15]+'...') # display only 15 characters\n",
    "    \n",
    "    # display the best solutions\n",
    "    print('\\n',hist.sort_values('chi_2_score').head())\n",
    "     \n",
    "    return decrypted_txt, final_score"
   ]
  },
  {
   "cell_type": "code",
   "execution_count": 77,
   "metadata": {},
   "outputs": [
    {
     "name": "stdout",
     "output_type": "stream",
     "text": [
      "Decryption of: IK SKYYGMK KYZ ...\n",
      "\n",
      "1/26: 0.35s score: 544739.392 HJ RJXXFLJ JXY ...\n",
      "2/26: 0.32s score: 375315.322 GI QIWWEKI IWX ...\n",
      "3/26: 0.35s score: 245880.85 FH PHVVDJH HVW ...\n",
      "4/26: 0.39s score: 126623.913 EG OGUUCIG GUV ...\n",
      "5/26: 0.35s score: 29530.933 DF NFTTBHF FTU ...\n",
      "6/26: 0.3s score: 384.967 CE MESSAGE EST ...\n",
      "7/26: 0.32s score: 99004.212 BD LDRRZFD DRS ...\n",
      "8/26: 0.32s score: 296663.346 AC KCQQYEC CQR ...\n",
      "9/26: 0.3s score: 146139.902 ZB JBPPXDB BPQ ...\n",
      "10/26: 0.32s score: 150477.905 YA IAOOWCA AOP ...\n",
      "11/26: 0.3s score: 210879.649 XZ HZNNVBZ ZNO ...\n",
      "12/26: 0.32s score: 22404.072 WY GYMMUAY YMN ...\n",
      "13/26: 0.32s score: 201468.799 VX FXLLTZX XLM ...\n",
      "14/26: 0.3s score: 91221.788 UW EWKKSYW WKL ...\n",
      "15/26: 0.35s score: 187821.973 TV DVJJRXV VJK ...\n",
      "16/26: 0.35s score: 177382.497 SU CUIIQWU UIJ ...\n",
      "17/26: 0.32s score: 124879.772 RT BTHHPVT THI ...\n",
      "18/26: 0.32s score: 39651.527 QS ASGGOUS SGH ...\n",
      "19/26: 0.34s score: 49455.75 PR ZRFFNTR RFG ...\n",
      "20/26: 0.43s score: 138912.015 OQ YQEEMSQ QEF ...\n",
      "21/26: 0.4s score: 17853.526 NP XPDDLRP PDE ...\n",
      "22/26: 0.37s score: 49108.118 MO WOCCKQO OCD ...\n",
      "23/26: 0.35s score: 120371.164 LN VNBBJPN NBC ...\n",
      "24/26: 0.33s score: 171732.353 KM UMAAIOM MAB ...\n",
      "25/26: 0.3s score: 60836.287 JL TLZZHNL LZA ...\n",
      "\n",
      "    shift   chi_2_score                                            decrypt\n",
      "6      6    384.967237  CE MESSAGE EST CRYPTE AVEC LA METHODE CESAR QU...\n",
      "21    21  17853.525738  NP XPDDLRP PDE NCJAEP LGPN WL XPESZOP NPDLC BF...\n",
      "12    12  22404.071785  WY GYMMUAY YMN WLSJNY UPYW FU GYNBIXY WYMUL KO...\n",
      "5      5  29530.933494  DF NFTTBHF FTU DSZQUF BWFD MB NFUIPEF DFTBS RV...\n",
      "18    18  39651.527338  QS ASGGOUS SGH QFMDHS OJSQ ZO ASHVCRS QSGOF EI...\n"
     ]
    },
    {
     "data": {
      "text/plain": [
       "('CE MESSAGE EST CRYPTE AVEC LA METHODE CESAR QUI CONSISTE EN UN SUBSTITUTION ALPHABETIQUE',\n",
       " 0.0025976236551025532)"
      ]
     },
     "execution_count": 77,
     "metadata": {},
     "output_type": "execute_result"
    }
   ],
   "source": [
    "chi_squared_attack(alpha, encrypted_txt)"
   ]
  },
  {
   "cell_type": "code",
   "execution_count": null,
   "metadata": {},
   "outputs": [],
   "source": []
  }
 ],
 "metadata": {
  "kernelspec": {
   "display_name": "Python 3",
   "language": "python",
   "name": "python3"
  },
  "language_info": {
   "codemirror_mode": {
    "name": "ipython",
    "version": 3
   },
   "file_extension": ".py",
   "mimetype": "text/x-python",
   "name": "python",
   "nbconvert_exporter": "python",
   "pygments_lexer": "ipython3",
   "version": "3.7.6"
  }
 },
 "nbformat": 4,
 "nbformat_minor": 2
}
